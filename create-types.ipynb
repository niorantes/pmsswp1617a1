{
 "cells": [
  {
   "cell_type": "markdown",
   "metadata": {},
   "source": [
    "# Μετατρέποντας στη μορφή N-Triples\n",
    "\n",
    "Ολοκληρώνουμε την κατασκευή του ωρολογίου προγράμματος, μετατρέποντας τις τριάδες στο πρότυπο μορφότυπο [N-Triples](http://www.w3.org/TR/n-triples/).\n",
    "\n",
    "## 1. Φορτώστε τις τριάδες\n",
    "\n",
    "Βάλτε σε μια λίστα τις τριάδες από το τελικό csv του προηγούμενου εργαστηρίου. Αυτές θα πρέπει:\n",
    "\n",
    "* Να χρησιμοποιούν URIs με νόμιμους χαρακτήρες\n",
    "* Να έχουν σημειωμένους τους ανώνυμους κόμβους με το πρόθεμα `_:bnode`\n",
    "* Όλα τα URIs να έχουν τη μορφή http URIs\n",
    "\n",
    "    * `http://dilab77.ionio.gr/swp/you/vocab#` για τα κατηγορήματα\n",
    "    * `http://dilab77.ionio.gr/swp/you/resource/` για τα υπόλοιπα URIs\n",
    "    \n",
    "    όπου you πρέπει να είναι το username που έχετε στο JupyterHub.\n",
    "   "
   ]
  },
  {
   "cell_type": "code",
   "execution_count": 2,
   "metadata": {
    "collapsed": false
   },
   "outputs": [
    {
     "name": "stdout",
     "output_type": "stream",
     "text": [
      "[['_:0', 'http://dilab77.ionio.gr/swp/provatas/vocab#KATHIGITIS', 'http://dilab77.ionio.gr/swp/provatas/resource/Stefanidakis'], ['_:0', 'http://dilab77.ionio.gr/swp/provatas/vocab#MATHIMA', 'http://dilab77.ionio.gr/swp/provatas/resource/Simasiologikos%20istos'], ['_:0', 'http://dilab77.ionio.gr/swp/provatas/vocab#AITHOUSA', 'http://dilab77.ionio.gr/swp/provatas/resource/2'], ['_:0', 'http://dilab77.ionio.gr/swp/provatas/vocab#EKSAMINO', '#:2'], ['_:0', 'http://dilab77.ionio.gr/swp/provatas/vocab#MERA', '#:Triti'], ['_:0', 'http://dilab77.ionio.gr/swp/provatas/vocab#WRA%20ENARKSIS', '#:15'], ['_:0', 'http://dilab77.ionio.gr/swp/provatas/vocab#WRA%20LIKSIS', '#:18'], ['_:1', 'http://dilab77.ionio.gr/swp/provatas/vocab#KATHIGITIS', 'http://dilab77.ionio.gr/swp/provatas/resource/Maggos'], ['_:1', 'http://dilab77.ionio.gr/swp/provatas/vocab#MATHIMA', 'http://dilab77.ionio.gr/swp/provatas/resource/Asfaleia%20PS'], ['_:1', 'http://dilab77.ionio.gr/swp/provatas/vocab#AITHOUSA', 'http://dilab77.ionio.gr/swp/provatas/resource/1'], ['_:1', 'http://dilab77.ionio.gr/swp/provatas/vocab#EKSAMINO', '#:2'], ['_:1', 'http://dilab77.ionio.gr/swp/provatas/vocab#MERA', '#:Deutera'], ['_:1', 'http://dilab77.ionio.gr/swp/provatas/vocab#WRA%20ENARKSIS', '#:18'], ['_:1', 'http://dilab77.ionio.gr/swp/provatas/vocab#WRA%20LIKSIS', '#:21'], ['_:2', 'http://dilab77.ionio.gr/swp/provatas/vocab#KATHIGITIS', 'http://dilab77.ionio.gr/swp/provatas/resource/Vlamos'], ['_:2', 'http://dilab77.ionio.gr/swp/provatas/vocab#MATHIMA', 'http://dilab77.ionio.gr/swp/provatas/resource/Viopliroforiki'], ['_:2', 'http://dilab77.ionio.gr/swp/provatas/vocab#AITHOUSA', 'http://dilab77.ionio.gr/swp/provatas/resource/2'], ['_:2', 'http://dilab77.ionio.gr/swp/provatas/vocab#EKSAMINO', '#:2'], ['_:2', 'http://dilab77.ionio.gr/swp/provatas/vocab#MERA', '#:Tetarti'], ['_:2', 'http://dilab77.ionio.gr/swp/provatas/vocab#WRA%20ENARKSIS', '#:18'], ['_:2', 'http://dilab77.ionio.gr/swp/provatas/vocab#WRA%20LIKSIS', '#:21'], ['_:3', 'http://dilab77.ionio.gr/swp/provatas/vocab#KATHIGITIS', 'http://dilab77.ionio.gr/swp/provatas/resource/Pateli'], ['_:3', 'http://dilab77.ionio.gr/swp/provatas/vocab#MATHIMA', 'http://dilab77.ionio.gr/swp/provatas/resource/Epixirein'], ['_:3', 'http://dilab77.ionio.gr/swp/provatas/vocab#AITHOUSA', 'http://dilab77.ionio.gr/swp/provatas/resource/1'], ['_:3', 'http://dilab77.ionio.gr/swp/provatas/vocab#EKSAMINO', '#:2'], ['_:3', 'http://dilab77.ionio.gr/swp/provatas/vocab#MERA', '#:Tetarti'], ['_:3', 'http://dilab77.ionio.gr/swp/provatas/vocab#WRA%20ENARKSIS', '#:15'], ['_:3', 'http://dilab77.ionio.gr/swp/provatas/vocab#WRA%20LIKSIS', '#:18'], ['_:4', 'http://dilab77.ionio.gr/swp/provatas/vocab#KATHIGITIS', 'http://dilab77.ionio.gr/swp/provatas/resource/Milwnas'], ['_:4', 'http://dilab77.ionio.gr/swp/provatas/vocab#MATHIMA', 'http://dilab77.ionio.gr/swp/provatas/resource/Anaparastasi%20gnwsis'], ['_:4', 'http://dilab77.ionio.gr/swp/provatas/vocab#AITHOUSA', 'http://dilab77.ionio.gr/swp/provatas/resource/2'], ['_:4', 'http://dilab77.ionio.gr/swp/provatas/vocab#EKSAMINO', '#:2'], ['_:4', 'http://dilab77.ionio.gr/swp/provatas/vocab#MERA', '#:Pempti'], ['_:4', 'http://dilab77.ionio.gr/swp/provatas/vocab#WRA%20ENARKSIS', '#:15'], ['_:4', 'http://dilab77.ionio.gr/swp/provatas/vocab#WRA%20LIKSIS', '#:18'], ['_:5', 'http://dilab77.ionio.gr/swp/provatas/vocab#KATHIGITIS', 'http://dilab77.ionio.gr/swp/provatas/resource/Aulwnitis'], ['_:5', 'http://dilab77.ionio.gr/swp/provatas/vocab#MATHIMA', 'http://dilab77.ionio.gr/swp/provatas/resource/Prosomoiwsi'], ['_:5', 'http://dilab77.ionio.gr/swp/provatas/vocab#AITHOUSA', 'http://dilab77.ionio.gr/swp/provatas/resource/1'], ['_:5', 'http://dilab77.ionio.gr/swp/provatas/vocab#EKSAMINO', '#:2'], ['_:5', 'http://dilab77.ionio.gr/swp/provatas/vocab#MERA', '#:Tetarti'], ['_:5', 'http://dilab77.ionio.gr/swp/provatas/vocab#WRA%20ENARKSIS', '#:18'], ['_:5', 'http://dilab77.ionio.gr/swp/provatas/vocab#WRA%20LIKSIS', '#:21'], ['_:6', 'http://dilab77.ionio.gr/swp/provatas/vocab#KATHIGITIS', 'http://dilab77.ionio.gr/swp/provatas/resource/Oikonomou'], ['_:6', 'http://dilab77.ionio.gr/swp/provatas/vocab#MATHIMA', 'http://dilab77.ionio.gr/swp/provatas/resource/Eikonikoi%20kosmoi'], ['_:6', 'http://dilab77.ionio.gr/swp/provatas/vocab#AITHOUSA', 'http://dilab77.ionio.gr/swp/provatas/resource/2'], ['_:6', 'http://dilab77.ionio.gr/swp/provatas/vocab#EKSAMINO', '#:2'], ['_:6', 'http://dilab77.ionio.gr/swp/provatas/vocab#MERA', '#:Deutera'], ['_:6', 'http://dilab77.ionio.gr/swp/provatas/vocab#WRA%20ENARKSIS', '#:15'], ['_:6', 'http://dilab77.ionio.gr/swp/provatas/vocab#WRA%20LIKSIS', '#:18']]\n"
     ]
    }
   ],
   "source": [
    "# φορτώστε τις τριάδες από το αρχείο csv σε μια λίστα\n",
    "import csv\n",
    "\n",
    "eavlist = []\n",
    "with open('schedule3.csv','r',newline='') as ifp:\n",
    "    reader = csv.reader(ifp)\n",
    "    \n",
    "    for row in reader:\n",
    "        eavlist.append(row)\n",
    "        \n",
    "print(eavlist)"
   ]
  },
  {
   "cell_type": "markdown",
   "metadata": {},
   "source": [
    "## 2. Καθορίστε τους τύπους δεδομένων\n",
    "\n",
    "Οι απλές τιμές (literals) πρέπει να μετατραπούν σε **έγκυρη σύνταξη N-Triples**. Μέσω της Python\n",
    "\n",
    "* Μετατρέψτε τις ημέρες και το εξάμηνο σε απλά strings\n",
    "* Μετατρέψτε τις ώρες στο τύπο `xsd:time`\n",
    "* Όλα τα URIs πρέπει να είναι μέσα σε `< >`\n",
    "\n",
    "Ανατρέξτε στις διαφάνειες της τρέχουσας ενότητας για τη σωστή σύνταξη των προηγούμενων!\n",
    "\n",
    "**Σημείωση:** Ο τύπος `xsd:time` **πρέπει** να έχει τη μορφή `06:35:42` (ώρα, λεπτά, δευτερόλεπτα)."
   ]
  },
  {
   "cell_type": "code",
   "execution_count": 14,
   "metadata": {
    "collapsed": false
   },
   "outputs": [
    {
     "name": "stdout",
     "output_type": "stream",
     "text": [
      "[['_:0', '<http://dilab77.ionio.gr/swp/provatas/vocab#KATHIGITIS>', '<http://dilab77.ionio.gr/swp/provatas/resource/Stefanidakis>'], ['_:0', '<http://dilab77.ionio.gr/swp/provatas/vocab#MATHIMA>', '<http://dilab77.ionio.gr/swp/provatas/resource/Simasiologikos%20istos>'], ['_:0', '<http://dilab77.ionio.gr/swp/provatas/vocab#AITHOUSA>', '<http://dilab77.ionio.gr/swp/provatas/resource/2>'], ['_:0', '<http://dilab77.ionio.gr/swp/provatas/vocab#EKSAMINO>', '\":2\"'], ['_:0', '<http://dilab77.ionio.gr/swp/provatas/vocab#MERA>', '\"Triti\"'], ['_:0', '<http://dilab77.ionio.gr/swp/provatas/vocab#WRA%20ENARKSIS>', '#:15'], ['_:0', '<http://dilab77.ionio.gr/swp/provatas/vocab#WRA%20LIKSIS>', '\"18:00:00\"^^< http://www.w3.org/2001/XMLSchema#time>'], ['_:1', '<http://dilab77.ionio.gr/swp/provatas/vocab#KATHIGITIS>', '<http://dilab77.ionio.gr/swp/provatas/resource/Maggos>'], ['_:1', '<http://dilab77.ionio.gr/swp/provatas/vocab#MATHIMA>', '<http://dilab77.ionio.gr/swp/provatas/resource/Asfaleia%20PS>'], ['_:1', '<http://dilab77.ionio.gr/swp/provatas/vocab#AITHOUSA>', '<http://dilab77.ionio.gr/swp/provatas/resource/1>'], ['_:1', '<http://dilab77.ionio.gr/swp/provatas/vocab#EKSAMINO>', '\":2\"'], ['_:1', '<http://dilab77.ionio.gr/swp/provatas/vocab#MERA>', '\"Deutera\"'], ['_:1', '<http://dilab77.ionio.gr/swp/provatas/vocab#WRA%20ENARKSIS>', '#:18'], ['_:1', '<http://dilab77.ionio.gr/swp/provatas/vocab#WRA%20LIKSIS>', '\"21:00:00\"^^< http://www.w3.org/2001/XMLSchema#time>'], ['_:2', '<http://dilab77.ionio.gr/swp/provatas/vocab#KATHIGITIS>', '<http://dilab77.ionio.gr/swp/provatas/resource/Vlamos>'], ['_:2', '<http://dilab77.ionio.gr/swp/provatas/vocab#MATHIMA>', '<http://dilab77.ionio.gr/swp/provatas/resource/Viopliroforiki>'], ['_:2', '<http://dilab77.ionio.gr/swp/provatas/vocab#AITHOUSA>', '<http://dilab77.ionio.gr/swp/provatas/resource/2>'], ['_:2', '<http://dilab77.ionio.gr/swp/provatas/vocab#EKSAMINO>', '\":2\"'], ['_:2', '<http://dilab77.ionio.gr/swp/provatas/vocab#MERA>', '\"Tetarti\"'], ['_:2', '<http://dilab77.ionio.gr/swp/provatas/vocab#WRA%20ENARKSIS>', '#:18'], ['_:2', '<http://dilab77.ionio.gr/swp/provatas/vocab#WRA%20LIKSIS>', '\"21:00:00\"^^< http://www.w3.org/2001/XMLSchema#time>'], ['_:3', '<http://dilab77.ionio.gr/swp/provatas/vocab#KATHIGITIS>', '<http://dilab77.ionio.gr/swp/provatas/resource/Pateli>'], ['_:3', '<http://dilab77.ionio.gr/swp/provatas/vocab#MATHIMA>', '<http://dilab77.ionio.gr/swp/provatas/resource/Epixirein>'], ['_:3', '<http://dilab77.ionio.gr/swp/provatas/vocab#AITHOUSA>', '<http://dilab77.ionio.gr/swp/provatas/resource/1>'], ['_:3', '<http://dilab77.ionio.gr/swp/provatas/vocab#EKSAMINO>', '\":2\"'], ['_:3', '<http://dilab77.ionio.gr/swp/provatas/vocab#MERA>', '\"Tetarti\"'], ['_:3', '<http://dilab77.ionio.gr/swp/provatas/vocab#WRA%20ENARKSIS>', '#:15'], ['_:3', '<http://dilab77.ionio.gr/swp/provatas/vocab#WRA%20LIKSIS>', '\"18:00:00\"^^< http://www.w3.org/2001/XMLSchema#time>'], ['_:4', '<http://dilab77.ionio.gr/swp/provatas/vocab#KATHIGITIS>', '<http://dilab77.ionio.gr/swp/provatas/resource/Milwnas>'], ['_:4', '<http://dilab77.ionio.gr/swp/provatas/vocab#MATHIMA>', '<http://dilab77.ionio.gr/swp/provatas/resource/Anaparastasi%20gnwsis>'], ['_:4', '<http://dilab77.ionio.gr/swp/provatas/vocab#AITHOUSA>', '<http://dilab77.ionio.gr/swp/provatas/resource/2>'], ['_:4', '<http://dilab77.ionio.gr/swp/provatas/vocab#EKSAMINO>', '\":2\"'], ['_:4', '<http://dilab77.ionio.gr/swp/provatas/vocab#MERA>', '\"Pempti\"'], ['_:4', '<http://dilab77.ionio.gr/swp/provatas/vocab#WRA%20ENARKSIS>', '#:15'], ['_:4', '<http://dilab77.ionio.gr/swp/provatas/vocab#WRA%20LIKSIS>', '\"18:00:00\"^^< http://www.w3.org/2001/XMLSchema#time>'], ['_:5', '<http://dilab77.ionio.gr/swp/provatas/vocab#KATHIGITIS>', '<http://dilab77.ionio.gr/swp/provatas/resource/Aulwnitis>'], ['_:5', '<http://dilab77.ionio.gr/swp/provatas/vocab#MATHIMA>', '<http://dilab77.ionio.gr/swp/provatas/resource/Prosomoiwsi>'], ['_:5', '<http://dilab77.ionio.gr/swp/provatas/vocab#AITHOUSA>', '<http://dilab77.ionio.gr/swp/provatas/resource/1>'], ['_:5', '<http://dilab77.ionio.gr/swp/provatas/vocab#EKSAMINO>', '\":2\"'], ['_:5', '<http://dilab77.ionio.gr/swp/provatas/vocab#MERA>', '\"Tetarti\"'], ['_:5', '<http://dilab77.ionio.gr/swp/provatas/vocab#WRA%20ENARKSIS>', '#:18'], ['_:5', '<http://dilab77.ionio.gr/swp/provatas/vocab#WRA%20LIKSIS>', '\"21:00:00\"^^< http://www.w3.org/2001/XMLSchema#time>'], ['_:6', '<http://dilab77.ionio.gr/swp/provatas/vocab#KATHIGITIS>', '<http://dilab77.ionio.gr/swp/provatas/resource/Oikonomou>'], ['_:6', '<http://dilab77.ionio.gr/swp/provatas/vocab#MATHIMA>', '<http://dilab77.ionio.gr/swp/provatas/resource/Eikonikoi%20kosmoi>'], ['_:6', '<http://dilab77.ionio.gr/swp/provatas/vocab#AITHOUSA>', '<http://dilab77.ionio.gr/swp/provatas/resource/2>'], ['_:6', '<http://dilab77.ionio.gr/swp/provatas/vocab#EKSAMINO>', '\":2\"'], ['_:6', '<http://dilab77.ionio.gr/swp/provatas/vocab#MERA>', '\"Deutera\"'], ['_:6', '<http://dilab77.ionio.gr/swp/provatas/vocab#WRA%20ENARKSIS>', '#:15'], ['_:6', '<http://dilab77.ionio.gr/swp/provatas/vocab#WRA%20LIKSIS>', '\"18:00:00\"^^< http://www.w3.org/2001/XMLSchema#time>']]\n"
     ]
    }
   ],
   "source": [
    "# εφαρμόστε τις μετατροπές φτιάχνοντας μια νέα λίστα τριάδων\n",
    "\n",
    "n_triples=[]\n",
    "\n",
    "for s, p, o in eavlist:\n",
    "    p='<' +p+ '>'\n",
    "    \n",
    "    if o.startswith ('http'):\n",
    "        o='<' +o+ '>'\n",
    "    \n",
    "    if p=='<http://dilab77.ionio.gr/swp/provatas/vocab#MERA>':\n",
    "        o = '\"'+o[2:]+'\"'\n",
    "           \n",
    "    if p=='<http://dilab77.ionio.gr/swp/provatas/vocab#EKSAMINO>':\n",
    "        o = '\"'+o[-2:]+'\"'\n",
    "           \n",
    "    if p=='<http://dilab77.ionio.gr/swp/provatas/vocab#WRA%20LIKSIS>' or p=='<http://dilab77.ionio.gr/swp/provatas/vocab#WRA%20ENARKIS>':\n",
    "        o = '\"'+o[2:]+':00:00' + '\"^^< http://www.w3.org/2001/XMLSchema#time>'\n",
    "           \n",
    "    n_triples.append([s,p,o])\n",
    "        \n",
    "print(n_triples)"
   ]
  },
  {
   "cell_type": "code",
   "execution_count": 15,
   "metadata": {
    "collapsed": false
   },
   "outputs": [
    {
     "name": "stdout",
     "output_type": "stream",
     "text": [
      "_:0 http://www.w3.org/1999/02/22-rdf-syntax-ns# http://dilab77.ionio.gr/swp/provatas/vocab#Lecture .\n",
      "<http://dilab77.ionio.gr/swp/provatas/resource/Stefanidakis> http://www.w3.org/1999/02/22-rdf-syntax-ns# http://dilab77.ionio.gr/swp/provatas/vocab#Teacher .\n",
      "<http://dilab77.ionio.gr/swp/provatas/resource/Simasiologikos%20istos> http://www.w3.org/1999/02/22-rdf-syntax-ns# http://dilab77.ionio.gr/swp/provatas/vocab#Course .\n",
      "<http://dilab77.ionio.gr/swp/provatas/resource/2> http://www.w3.org/1999/02/22-rdf-syntax-ns# http://dilab77.ionio.gr/swp/provatas/vocab#Room .\n",
      "_:1 http://www.w3.org/1999/02/22-rdf-syntax-ns# http://dilab77.ionio.gr/swp/provatas/vocab#Lecture .\n",
      "<http://dilab77.ionio.gr/swp/provatas/resource/Maggos> http://www.w3.org/1999/02/22-rdf-syntax-ns# http://dilab77.ionio.gr/swp/provatas/vocab#Teacher .\n",
      "<http://dilab77.ionio.gr/swp/provatas/resource/Asfaleia%20PS> http://www.w3.org/1999/02/22-rdf-syntax-ns# http://dilab77.ionio.gr/swp/provatas/vocab#Course .\n",
      "<http://dilab77.ionio.gr/swp/provatas/resource/1> http://www.w3.org/1999/02/22-rdf-syntax-ns# http://dilab77.ionio.gr/swp/provatas/vocab#Room .\n",
      "_:2 http://www.w3.org/1999/02/22-rdf-syntax-ns# http://dilab77.ionio.gr/swp/provatas/vocab#Lecture .\n",
      "<http://dilab77.ionio.gr/swp/provatas/resource/Vlamos> http://www.w3.org/1999/02/22-rdf-syntax-ns# http://dilab77.ionio.gr/swp/provatas/vocab#Teacher .\n",
      "<http://dilab77.ionio.gr/swp/provatas/resource/Viopliroforiki> http://www.w3.org/1999/02/22-rdf-syntax-ns# http://dilab77.ionio.gr/swp/provatas/vocab#Course .\n",
      "<http://dilab77.ionio.gr/swp/provatas/resource/2> http://www.w3.org/1999/02/22-rdf-syntax-ns# http://dilab77.ionio.gr/swp/provatas/vocab#Room .\n",
      "_:3 http://www.w3.org/1999/02/22-rdf-syntax-ns# http://dilab77.ionio.gr/swp/provatas/vocab#Lecture .\n",
      "<http://dilab77.ionio.gr/swp/provatas/resource/Pateli> http://www.w3.org/1999/02/22-rdf-syntax-ns# http://dilab77.ionio.gr/swp/provatas/vocab#Teacher .\n",
      "<http://dilab77.ionio.gr/swp/provatas/resource/Epixirein> http://www.w3.org/1999/02/22-rdf-syntax-ns# http://dilab77.ionio.gr/swp/provatas/vocab#Course .\n",
      "<http://dilab77.ionio.gr/swp/provatas/resource/1> http://www.w3.org/1999/02/22-rdf-syntax-ns# http://dilab77.ionio.gr/swp/provatas/vocab#Room .\n",
      "_:4 http://www.w3.org/1999/02/22-rdf-syntax-ns# http://dilab77.ionio.gr/swp/provatas/vocab#Lecture .\n",
      "<http://dilab77.ionio.gr/swp/provatas/resource/Milwnas> http://www.w3.org/1999/02/22-rdf-syntax-ns# http://dilab77.ionio.gr/swp/provatas/vocab#Teacher .\n",
      "<http://dilab77.ionio.gr/swp/provatas/resource/Anaparastasi%20gnwsis> http://www.w3.org/1999/02/22-rdf-syntax-ns# http://dilab77.ionio.gr/swp/provatas/vocab#Course .\n",
      "<http://dilab77.ionio.gr/swp/provatas/resource/2> http://www.w3.org/1999/02/22-rdf-syntax-ns# http://dilab77.ionio.gr/swp/provatas/vocab#Room .\n",
      "_:5 http://www.w3.org/1999/02/22-rdf-syntax-ns# http://dilab77.ionio.gr/swp/provatas/vocab#Lecture .\n",
      "<http://dilab77.ionio.gr/swp/provatas/resource/Aulwnitis> http://www.w3.org/1999/02/22-rdf-syntax-ns# http://dilab77.ionio.gr/swp/provatas/vocab#Teacher .\n",
      "<http://dilab77.ionio.gr/swp/provatas/resource/Prosomoiwsi> http://www.w3.org/1999/02/22-rdf-syntax-ns# http://dilab77.ionio.gr/swp/provatas/vocab#Course .\n",
      "<http://dilab77.ionio.gr/swp/provatas/resource/1> http://www.w3.org/1999/02/22-rdf-syntax-ns# http://dilab77.ionio.gr/swp/provatas/vocab#Room .\n",
      "_:6 http://www.w3.org/1999/02/22-rdf-syntax-ns# http://dilab77.ionio.gr/swp/provatas/vocab#Lecture .\n",
      "<http://dilab77.ionio.gr/swp/provatas/resource/Oikonomou> http://www.w3.org/1999/02/22-rdf-syntax-ns# http://dilab77.ionio.gr/swp/provatas/vocab#Teacher .\n",
      "<http://dilab77.ionio.gr/swp/provatas/resource/Eikonikoi%20kosmoi> http://www.w3.org/1999/02/22-rdf-syntax-ns# http://dilab77.ionio.gr/swp/provatas/vocab#Course .\n",
      "<http://dilab77.ionio.gr/swp/provatas/resource/2> http://www.w3.org/1999/02/22-rdf-syntax-ns# http://dilab77.ionio.gr/swp/provatas/vocab#Room .\n"
     ]
    }
   ],
   "source": [
    "visited = set()\n",
    "for s,p,o in n_triples:\n",
    "    uri=s\n",
    "    if uri not in visited:\n",
    "        # προσθέστε τριάδα με rdf:type\n",
    "        visited.add(uri)\n",
    "        print('{} {} {} .'.format(uri, 'http://www.w3.org/1999/02/22-rdf-syntax-ns#', 'http://dilab77.ionio.gr/swp/provatas/vocab#Lecture'))\n",
    "    visited.add(p)\n",
    "    if p=='<http://dilab77.ionio.gr/swp/provatas/vocab#KATHIGITIS>' and p in visited:\n",
    "        print('{} {} {} .'.format(o, 'http://www.w3.org/1999/02/22-rdf-syntax-ns#', 'http://dilab77.ionio.gr/swp/provatas/vocab#Teacher'))\n",
    "    if p=='<http://dilab77.ionio.gr/swp/provatas/vocab#MATHIMA>' and p in visited:\n",
    "        print('{} {} {} .'.format(o, 'http://www.w3.org/1999/02/22-rdf-syntax-ns#', 'http://dilab77.ionio.gr/swp/provatas/vocab#Course' ))\n",
    "    if p=='<http://dilab77.ionio.gr/swp/provatas/vocab#AITHOUSA>' and p in visited:\n",
    "        print('{} {} {} .'.format(o, 'http://www.w3.org/1999/02/22-rdf-syntax-ns#', 'http://dilab77.ionio.gr/swp/provatas/vocab#Room' ))"
   ]
  },
  {
   "cell_type": "markdown",
   "metadata": {},
   "source": [
    "## 3. Παραγωγή αρχείου N-triples\n",
    "\n",
    "Στο τελευταίο αυτό βήμα, αποθηκεύστε το περιεχόμενο των τριάδων σε αρχείο κειμένου σύμφωνα με το πρότυπο N-Triples. Το αρχείο σας θα πρέπει να έχει κατάληξη `.nt` .\n",
    "\n",
    "**Θυμηθείτε**: κάθε γραμμή ενός αρχείου N-Triples περιέχει **ακριβώς μία** τριάδα, με τα μέρη των τριάδων χωρισμένα με κενό (space). Η γραμμή τελειώνει με την **τελεία**."
   ]
  },
  {
   "cell_type": "markdown",
   "metadata": {},
   "source": [
    "#### Υποδειξη: μορφοποίηση strings\n",
    "\n",
    "Μια απλή μορφοποίηση ενός string μπορεί να γίνει ως εξής\n",
    "\n",
    "```python\n",
    "a = 1\n",
    "b = 2\n",
    "print('{}+{}={}'.format(a,b,a+b))\n",
    "```\n",
    "\n",
    "Χρησιμοποιήστε τη `format()` όπως στο παράδειγμα για να φτιάξετε κάθε γραμμή του αρχείου N-Triples. Όταν φτάσετε στο επιθυμητό αποτέλεσμα, αντικαταστήστε την `print()` με τη μέθοδο `write()` του αρχείου εξόδου. Προσοχή: η `write()` δεν προσθέτει αυτόματα χαρακτήρα νέας γραμμής `\\n`, πρέπει να τον βάλετε εσείς!"
   ]
  },
  {
   "cell_type": "code",
   "execution_count": 19,
   "metadata": {
    "collapsed": false
   },
   "outputs": [],
   "source": [
    "with open('ntriples.nt','w') as ofp:\n",
    "    for s,p,o in n_triples:\n",
    "        ofp.write('{} {} {} . \\n'.format(s,p,o))"
   ]
  },
  {
   "cell_type": "markdown",
   "metadata": {},
   "source": [
    "## 4. Είναι το αρχείο σας έγκυρο;\n",
    "\n",
    "Βεβαιωθείτε ότι το αρχείο σας έχει έγκυρη μορφή N-Triples. Αυτό θα το κάνετε μέσω του εργαλείου `riot`. Στο επόμενο κελί εισάγετε το εξής:\n",
    "\n",
    "`!riot --validate yourfile.nt`\n",
    "\n",
    "Περιμένετε μέχρι να ολοκληρωθεί η εκτέλεση (να μην φαίνεται `In [*]`). **Αν το αρχείο σας είναι ΟΚ, δεν θα δείτε τίποτα ως έξοδο!**"
   ]
  },
  {
   "cell_type": "code",
   "execution_count": null,
   "metadata": {
    "collapsed": false
   },
   "outputs": [],
   "source": [
    "# δώστε την εντολή του παραδείγματος\n",
    "\n",
    "!riot --validate ntriples.nt"
   ]
  },
  {
   "cell_type": "markdown",
   "metadata": {},
   "source": [
    "## 5. Δεδομένα RDF σε άλλες μορφές.\n",
    "\n",
    "Εφόσον έχετε έγκυρο αρχείο N-Triples, μπορείτε να το μετατρέψετε σε διάφορες άλλες μορφές. Το εργαλείο `riot` θα σας βοηθήσει πάλι:\n",
    "\n",
    "Δοκιμάστε την εντολή `!riot --output=FMT yourfile.nt`, βάζοντας στη θέση του FMT τα `turtle` και `rdfxml`. Η έξοδος θα φανεί στην οθόνη σας.\n",
    "\n",
    "Αν θέλετε να σώσετε σε νέο αρχείο την καινούργια μορφή, δώστε π.χ.:\n",
    "\n",
    "`!riot --output=turtle yourfile.nt > yourfile.ttl`"
   ]
  },
  {
   "cell_type": "code",
   "execution_count": 5,
   "metadata": {
    "collapsed": false
   },
   "outputs": [],
   "source": [
    "# δοκιμάστε με output=turtle ή output=rdfxml"
   ]
  },
  {
   "cell_type": "code",
   "execution_count": 6,
   "metadata": {
    "collapsed": true
   },
   "outputs": [],
   "source": [
    "# δοκιμάστε να μετατρέψετε σε νέο αρχείο μορφής Turtle"
   ]
  },
  {
   "cell_type": "markdown",
   "metadata": {},
   "source": [
    "## Το τέλος του ωρολογίου προγράμματος.\n",
    "\n",
    "**Συγχαρητήρια!!** Μόλις περάσατε από τα ad hoc σημασιολογικά δεδομένα σε πρότυπες μορφές αναπαράστασης. Τώρα πλέον μπορείτε να επεξεργαστείτε τα δεδομένα σας με όλα τα διαθέσιμα εργαλεία του Σημασιολογικού Ιστού!"
   ]
  }
 ],
 "metadata": {
  "kernelspec": {
   "display_name": "Python 3",
   "language": "python",
   "name": "python3"
  },
  "language_info": {
   "codemirror_mode": {
    "name": "ipython",
    "version": 3
   },
   "file_extension": ".py",
   "mimetype": "text/x-python",
   "name": "python",
   "nbconvert_exporter": "python",
   "pygments_lexer": "ipython3",
   "version": "3.4.4"
  }
 },
 "nbformat": 4,
 "nbformat_minor": 0
}
